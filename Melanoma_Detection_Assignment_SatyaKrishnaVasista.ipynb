{
 "cells": [
  {
   "cell_type": "markdown",
   "id": "3a678f93-7cf1-4527-8ac3-eb3e9f83a98b",
   "metadata": {},
   "source": [
    "# Melanoma_Detection_Assignment \r\n",
    "\r\n",
    "\r\n",
    "**Problem statement:**\r\n",
    "\r\n",
    "To build a CNN based model which can accurately detect melanoma. Melanoma is a type of cancer that can be deadly if not detected early. It accounts for 75% of skin cancer deaths. A solution that can evaluate images and alert dermatologists about the presence of melanoma has the potential to reduce a lot of manual effort needed in diagnosis. Build a multiclass classification model using a custom convolutional neural network in TensorFlow. \r\n",
    "\r\n",
    "The dataset consists of 2357 images of malignant and benign oncological diseases, which were formed from the International Skin Imaging Collaboration (ISIC). All images were sorted according to the classification taken with ISIC, and all subsets were divided into the same number of images, with the exception of melanomas and moles, whose images are slightly dominant.\r\n",
    "\r\n",
    "The data set contains the following diseases:\r\n",
    "\r\n",
    "- Actinic keratosis\r\n",
    "- Basal cell carcinoma\r\n",
    "- Dermatofibroma\r\n",
    "- Melanoma\r\n",
    "- Nevus\r\n",
    "- Pigmented benign keratosis\r\n",
    "- Seborrheic keratosis\r\n",
    "- Squamous cell carcinoma\r\n",
    "- Vascular lesion Vascular lesion"
   ]
  },
  {
   "cell_type": "markdown",
   "id": "d338546e-b98f-4d9d-8094-a41ef9015714",
   "metadata": {},
   "source": [
    "## Solution Plan:\n",
    "\n",
    "- Data Reading/Data Understanding\n",
    "- Dataset Creation\n",
    "- Dataset visualisation\n",
    "- Model Building & training\n",
    "- Chose an appropriate data augmentation strategy to resolve underfitting/overfitting\n",
    "- Model Building & training on the augmented data\n",
    "- Class distribution\n",
    "- Handling class imbalances: with Augmentor[https://augmentor.readthedocs.io/en/master/] library.\n",
    "- Model Building & training on the rectified class imbalance data\n"
   ]
  },
  {
   "cell_type": "code",
   "execution_count": 1,
   "id": "c82ead80-8c74-41ee-9528-0edbda7ff3fe",
   "metadata": {
    "editable": true,
    "slideshow": {
     "slide_type": ""
    },
    "tags": []
   },
   "outputs": [],
   "source": [
    "import tensorflow as tf\n",
    "from tensorflow import keras\n",
    "from tensorflow.keras import layers\n",
    "from tensorflow.keras import models\n",
    "from tensorflow.keras.models import Sequential\n",
    "from tensorflow.keras.layers import Dense, Flatten, BatchNormalization, Activation, Dropout\n",
    "from tensorflow.keras.regularizers import l2\n",
    "\n",
    "model = models.Sequential\n",
    "\n",
    "import os\n",
    "import PIL\n",
    "\n",
    "import pathlib\n",
    "import cv2\n",
    "import numpy as np\n",
    "import pandas as pd\n",
    "import matplotlib.pyplot as plt"
   ]
  },
  {
   "cell_type": "markdown",
   "id": "5dac50d9-7b36-4947-b7b0-526256bda2b2",
   "metadata": {
    "editable": true,
    "slideshow": {
     "slide_type": ""
    },
    "tags": []
   },
   "source": [
    "## Import Data and Pre-process it"
   ]
  },
  {
   "cell_type": "code",
   "execution_count": 2,
   "id": "c5b444e2-d7da-408a-91f0-abd24f9c15e4",
   "metadata": {},
   "outputs": [],
   "source": [
    "batch_size = 32\n",
    "epochs = 20\n",
    "input_image_height = 180\n",
    "input_image_width = 180\n",
    "\n",
    "training_data_dir = 'Skin cancer ISIC The International Skin Imaging Collaboration/Train/'\n",
    "testing_data_dir = 'Skin cancer ISIC The International Skin Imaging Collaboration/Test/'"
   ]
  },
  {
   "cell_type": "code",
   "execution_count": 3,
   "id": "782ed75f-3c27-4eda-a520-46f2bf64509f",
   "metadata": {},
   "outputs": [
    {
     "name": "stdout",
     "output_type": "stream",
     "text": [
      "Total images in training directory: 2239\n",
      "Total images in testing directory: 118\n"
     ]
    }
   ],
   "source": [
    "data_dir_train = pathlib.Path(training_data_dir)\n",
    "data_dir_test  = pathlib.Path(testing_data_dir)\n",
    "\n",
    "image_count_train = len(list(data_dir_train.glob('*/*.jpg')))\n",
    "print(\"Total images in training directory:\", image_count_train)\n",
    "image_count_test = len(list(data_dir_test.glob('*/*.jpg')))\n",
    "print(\"Total images in testing directory:\", image_count_test)"
   ]
  },
  {
   "cell_type": "code",
   "execution_count": null,
   "id": "343ddd38-112a-4a97-8627-092f9bb13cf6",
   "metadata": {},
   "outputs": [],
   "source": []
  },
  {
   "cell_type": "code",
   "execution_count": 4,
   "id": "86a99704-4dba-45f2-8a1f-84314ff459e8",
   "metadata": {
    "editable": true,
    "slideshow": {
     "slide_type": ""
    },
    "tags": []
   },
   "outputs": [],
   "source": [
    "#?tf.keras.preprocessing.image_dataset_from_directory"
   ]
  },
  {
   "cell_type": "code",
   "execution_count": 5,
   "id": "468f03b2-eb4d-4500-98ea-5aaef81fea35",
   "metadata": {
    "editable": true,
    "slideshow": {
     "slide_type": ""
    },
    "tags": []
   },
   "outputs": [
    {
     "name": "stdout",
     "output_type": "stream",
     "text": [
      "Found 2239 files belonging to 9 classes.\n",
      "Using 1792 files for training.\n",
      "Found 2239 files belonging to 9 classes.\n",
      "Using 447 files for validation.\n"
     ]
    }
   ],
   "source": [
    "train_ds = tf.keras.preprocessing.image_dataset_from_directory(\n",
    "    training_data_dir,\n",
    "    labels='inferred', seed=123,\n",
    "    validation_split=0.2,\n",
    "    subset='training',\n",
    "    label_mode='categorical',\n",
    "    image_size=(input_image_height, input_image_width),\n",
    "    batch_size=batch_size)\n",
    "\n",
    "val_ds = tf.keras.preprocessing.image_dataset_from_directory(\n",
    "    training_data_dir,\n",
    "    labels='inferred', seed=123,\n",
    "    validation_split=0.2,\n",
    "    subset='validation',\n",
    "    label_mode='categorical',\n",
    "    image_size=(input_image_height, input_image_width),\n",
    "    batch_size=batch_size)"
   ]
  },
  {
   "cell_type": "code",
   "execution_count": 6,
   "id": "e22ae79f-f1f5-4e06-aa2a-33fbda8c48d4",
   "metadata": {},
   "outputs": [
    {
     "name": "stdout",
     "output_type": "stream",
     "text": [
      "Images in Train: 1792\n",
      "Images in Validation: 447\n"
     ]
    }
   ],
   "source": [
    "#print('Image per batch:', len(list(train_ds.as_numpy_iterator())))\n",
    "print('Images in Train:', len(train_ds.file_paths))\n",
    "print('Images in Validation:', len(val_ds.file_paths))"
   ]
  },
  {
   "cell_type": "code",
   "execution_count": 7,
   "id": "655a7f94-49e0-4185-9e97-a8ce8b14ad29",
   "metadata": {
    "scrolled": true
   },
   "outputs": [
    {
     "name": "stdout",
     "output_type": "stream",
     "text": [
      "The Class Names are:  ['actinic keratosis', 'basal cell carcinoma', 'dermatofibroma', 'melanoma', 'nevus', 'pigmented benign keratosis', 'seborrheic keratosis', 'squamous cell carcinoma', 'vascular lesion']\n"
     ]
    }
   ],
   "source": [
    "class_names = train_ds.class_names\n",
    "print('The Class Names are: ', class_names)"
   ]
  },
  {
   "cell_type": "markdown",
   "id": "8108c50d-2a95-498e-8a77-baaa1bc5693d",
   "metadata": {},
   "source": [
    "## 2. Visualization of Data"
   ]
  },
  {
   "cell_type": "code",
   "execution_count": null,
   "id": "f42d3156-3ab3-47cf-92e6-4a25272797c9",
   "metadata": {
    "scrolled": true
   },
   "outputs": [],
   "source": [
    "i = 0\n",
    "fig = plt.figure(figsize=(9,9))\n",
    "for ind in range(len(class_names)):\n",
    "    for img, lab in train_ds:\n",
    "        #print(np.argmax(lab, axis=1)[0])\n",
    "        if(np.argmax(lab, axis=1)[0] == ind):\n",
    "            image = img\n",
    "            break\n",
    "    i = i + 1\n",
    "    ax = plt.subplot(3, 3, i)\n",
    "    plt.imshow(image[0].numpy().astype('uint8'))\n",
    "    plt.title(class_names[ind])\n",
    "    plt.axis('off')"
   ]
  },
  {
   "cell_type": "code",
   "execution_count": null,
   "id": "fe0c6a7b-4dc8-4ad2-90d9-ad97b013e2ba",
   "metadata": {},
   "outputs": [],
   "source": [
    "AUTOTUNE = tf.data.experimental.AUTOTUNE\n",
    "train_ds = train_ds.cache().shuffle(1000).prefetch(buffer_size=AUTOTUNE)\n",
    "val_ds = val_ds.cache().prefetch(buffer_size=AUTOTUNE)"
   ]
  },
  {
   "cell_type": "markdown",
   "id": "39dca99d-1203-4264-81b7-359783db33ce",
   "metadata": {},
   "source": [
    "## 3. Create the model"
   ]
  },
  {
   "cell_type": "markdown",
   "id": "68db3481-115e-403d-99fa-437f7c97344d",
   "metadata": {},
   "source": [
    "**Creating a Sequential model with multiple layers**"
   ]
  },
  {
   "cell_type": "code",
   "execution_count": 86,
   "id": "8c4a16d6-fb56-4eee-9d59-60c42611b244",
   "metadata": {
    "editable": true,
    "slideshow": {
     "slide_type": ""
    },
    "tags": []
   },
   "outputs": [],
   "source": [
    "model = keras.Sequential()\n",
    "model.add(keras.layers.Rescaling(1./255, input_shape=(input_image_height, input_image_width, 3)))\n",
    "model.add(layers.Conv2D(16, (3,3), padding='same', activation='relu'))\n",
    "\n",
    "#Convolution with 32 filters\n",
    "model.add(layers.Conv2D(32, (3,3), padding='same', activation='relu'))\n",
    "model.add(keras.layers.MaxPooling2D(pool_size=(2,2), strides=(1,1)))\n",
    "#model.add(BatchNormalization())\n",
    "model.add(layers.Conv2D(32, (3,3), padding='same', activation='relu'))\n",
    "model.add(layers.Conv2D(64, (3,3), padding='same', activation='relu'))\n",
    "#model.add(layers.Conv2D(128, (3,3), padding='same', activation='relu'))\n",
    "model.add(keras.layers.MaxPooling2D(pool_size=(2,2), strides=(1,1)))\n",
    "#model.add(BatchNormalization())\n",
    "#model.add(keras.layers.MaxPooling2D(pool_size=(2,2), strides=(1,1)))\n",
    "#model.add(Dropout(0.25))\n",
    "\n",
    "\n",
    "##Convolution with 64 filters\n",
    "#model.add(layers.Conv2D(64, (3,3), padding='same'))\n",
    "#model.add(Activation('relu'))\n",
    "##model.add(BatchNormalization())\n",
    "#model.add(layers.Conv2D(64, (3,3)))\n",
    "#model.add(Activation('relu'))\n",
    "##model.add(BatchNormalization())\n",
    "#model.add(keras.layers.MaxPooling2D(pool_size=(2,2)))\n",
    "##model.add(Dropout(0.25))\n",
    "#\n",
    "#\n",
    "##Convolution with 128 filters\n",
    "#model.add(layers.Conv2D(128, (3,3), padding='same'))\n",
    "#model.add(Activation('relu'))\n",
    "##model.add(BatchNormalization())\n",
    "#model.add(layers.Conv2D(128, (3,3), padding='same'))\n",
    "#model.add(Activation('relu'))\n",
    "##model.add(BatchNormalization())\n",
    "#model.add(keras.layers.MaxPooling2D(pool_size=(2,2), strides=(1,1)))\n",
    "##model.add(Dropout(0.25))\n",
    "\n",
    "\n",
    "model.add(Flatten())\n",
    "#model.add(Dense(128, kernel_regularizer=l2(0.01)))\n",
    "#model.add(Dense(128))\n",
    "#model.add(Activation('relu'))\n",
    "model.add(Dense(128, activation='relu'))\n",
    "model.add(Dense(32, activation='relu'))\n",
    "model.add(Dense(len(class_names), activation='softmax'))"
   ]
  },
  {
   "cell_type": "code",
   "execution_count": 87,
   "id": "aea1aa19-c3e0-45ec-b7c0-2e2ffa1fbb63",
   "metadata": {
    "editable": true,
    "slideshow": {
     "slide_type": ""
    },
    "tags": []
   },
   "outputs": [],
   "source": [
    "model.build(train_ds.as_numpy_iterator().next()[0].shape)"
   ]
  },
  {
   "cell_type": "code",
   "execution_count": 88,
   "id": "9d0a2a66-aabc-4c89-b72d-42022adfa777",
   "metadata": {
    "editable": true,
    "slideshow": {
     "slide_type": ""
    },
    "tags": []
   },
   "outputs": [
    {
     "name": "stdout",
     "output_type": "stream",
     "text": [
      "Model: \"sequential_14\"\n",
      "_________________________________________________________________\n",
      " Layer (type)                Output Shape              Param #   \n",
      "=================================================================\n",
      " rescaling_14 (Rescaling)    (None, 180, 180, 3)       0         \n",
      "                                                                 \n",
      " conv2d_41 (Conv2D)          (None, 180, 180, 16)      448       \n",
      "                                                                 \n",
      " conv2d_42 (Conv2D)          (None, 180, 180, 32)      4640      \n",
      "                                                                 \n",
      " max_pooling2d_26 (MaxPooli  (None, 179, 179, 32)      0         \n",
      " ng2D)                                                           \n",
      "                                                                 \n",
      " conv2d_43 (Conv2D)          (None, 179, 179, 32)      9248      \n",
      "                                                                 \n",
      " conv2d_44 (Conv2D)          (None, 179, 179, 64)      18496     \n",
      "                                                                 \n",
      " max_pooling2d_27 (MaxPooli  (None, 178, 178, 64)      0         \n",
      " ng2D)                                                           \n",
      "                                                                 \n",
      " flatten_13 (Flatten)        (None, 2027776)           0         \n",
      "                                                                 \n",
      " dense_38 (Dense)            (None, 128)               259555456 \n",
      "                                                                 \n",
      " dense_39 (Dense)            (None, 32)                4128      \n",
      "                                                                 \n",
      " dense_40 (Dense)            (None, 9)                 297       \n",
      "                                                                 \n",
      "=================================================================\n",
      "Total params: 259592713 (990.27 MB)\n",
      "Trainable params: 259592713 (990.27 MB)\n",
      "Non-trainable params: 0 (0.00 Byte)\n",
      "_________________________________________________________________\n",
      "None\n"
     ]
    }
   ],
   "source": [
    "print(model.summary())"
   ]
  },
  {
   "cell_type": "code",
   "execution_count": 89,
   "id": "b2b73bab-df3d-4e3e-a59c-935caedce2db",
   "metadata": {
    "editable": true,
    "slideshow": {
     "slide_type": ""
    },
    "tags": []
   },
   "outputs": [],
   "source": [
    "### Todo, choose an appropirate optimiser and loss function\n",
    "optimizer = keras.optimizers.SGD(learning_rate=0.01, momentum=0.9, weight_decay=1e-6)\n",
    "model.compile(optimizer=optimizer, #'sgd',\n",
    "              loss='categorical_crossentropy',\n",
    "              metrics=['accuracy'])"
   ]
  },
  {
   "cell_type": "code",
   "execution_count": 90,
   "id": "612062e2-f938-418f-87e5-b8427ed097c8",
   "metadata": {
    "editable": true,
    "scrolled": true,
    "slideshow": {
     "slide_type": ""
    },
    "tags": []
   },
   "outputs": [],
   "source": [
    "def visualize_outputs(fit_data):\n",
    "    acc = fit_data.history['accuracy']\n",
    "    val_acc = fit_data.history['val_accuracy']\n",
    "\n",
    "    loss = fit_data.history['loss']\n",
    "    val_loss = fit_data.history['val_loss']\n",
    "\n",
    "    epochs_range = range(epochs)\n",
    "\n",
    "    plt.figure(figsize=(8, 8))\n",
    "    plt.subplot(1, 2, 1)\n",
    "    plt.plot(epochs_range, acc, label='Training Accuracy')\n",
    "    plt.plot(epochs_range, val_acc, label='Validation Accuracy')\n",
    "    plt.legend(loc='lower right')\n",
    "    plt.title('Training and Validation Accuracy')\n",
    "\n",
    "    plt.subplot(1, 2, 2)\n",
    "    plt.plot(epochs_range, loss, label='Training Loss')\n",
    "    plt.plot(epochs_range, val_loss, label='Validation Loss')\n",
    "    plt.legend(loc='upper right')\n",
    "    plt.title('Training and Validation Loss')\n",
    "    plt.show()"
   ]
  },
  {
   "cell_type": "code",
   "execution_count": 91,
   "id": "38b89ee1-b432-4332-8d7a-91d0aefdf26a",
   "metadata": {
    "editable": true,
    "scrolled": true,
    "slideshow": {
     "slide_type": ""
    },
    "tags": []
   },
   "outputs": [
    {
     "name": "stdout",
     "output_type": "stream",
     "text": [
      "Epoch 1/20\n",
      "56/56 [==============================] - 191s 3s/step - loss: 2.0653 - accuracy: 0.2015 - val_loss: 2.0367 - val_accuracy: 0.1790\n",
      "Epoch 2/20\n",
      "56/56 [==============================] - 191s 3s/step - loss: 2.0622 - accuracy: 0.2031 - val_loss: 2.0453 - val_accuracy: 0.2058\n",
      "Epoch 3/20\n",
      "56/56 [==============================] - 213s 4s/step - loss: 2.0421 - accuracy: 0.1914 - val_loss: 2.0276 - val_accuracy: 0.1924\n",
      "Epoch 4/20\n",
      "56/56 [==============================] - 189s 3s/step - loss: 2.0286 - accuracy: 0.1948 - val_loss: 2.0239 - val_accuracy: 0.2058\n",
      "Epoch 5/20\n",
      "56/56 [==============================] - 189s 3s/step - loss: 2.0164 - accuracy: 0.1953 - val_loss: 2.0238 - val_accuracy: 0.2058\n",
      "Epoch 6/20\n",
      "56/56 [==============================] - 201s 4s/step - loss: 2.0155 - accuracy: 0.2065 - val_loss: 2.0231 - val_accuracy: 0.2058\n",
      "Epoch 7/20\n",
      "56/56 [==============================] - 182s 3s/step - loss: 2.0158 - accuracy: 0.1987 - val_loss: 2.0246 - val_accuracy: 0.2058\n",
      "Epoch 8/20\n",
      "56/56 [==============================] - 177s 3s/step - loss: 2.0152 - accuracy: 0.2065 - val_loss: 2.0262 - val_accuracy: 0.1924\n",
      "Epoch 9/20\n",
      "56/56 [==============================] - 173s 3s/step - loss: 2.0168 - accuracy: 0.1836 - val_loss: 2.0216 - val_accuracy: 0.2058\n",
      "Epoch 10/20\n",
      "56/56 [==============================] - 174s 3s/step - loss: 2.0152 - accuracy: 0.2065 - val_loss: 2.0239 - val_accuracy: 0.1924\n",
      "Epoch 11/20\n",
      "56/56 [==============================] - 173s 3s/step - loss: 2.0152 - accuracy: 0.1914 - val_loss: 2.0226 - val_accuracy: 0.1924\n",
      "Epoch 12/20\n",
      "56/56 [==============================] - 175s 3s/step - loss: 2.0147 - accuracy: 0.2031 - val_loss: 2.0238 - val_accuracy: 0.2058\n",
      "Epoch 13/20\n",
      "56/56 [==============================] - 171s 3s/step - loss: 2.0155 - accuracy: 0.2026 - val_loss: 2.0234 - val_accuracy: 0.1924\n",
      "Epoch 14/20\n",
      "56/56 [==============================] - 185s 3s/step - loss: 2.0152 - accuracy: 0.1987 - val_loss: 2.0238 - val_accuracy: 0.2058\n",
      "Epoch 15/20\n",
      "56/56 [==============================] - 175s 3s/step - loss: 2.0151 - accuracy: 0.1936 - val_loss: 2.0223 - val_accuracy: 0.2058\n",
      "Epoch 16/20\n",
      "56/56 [==============================] - 172s 3s/step - loss: 2.0160 - accuracy: 0.2065 - val_loss: 2.0233 - val_accuracy: 0.2058\n",
      "Epoch 17/20\n",
      "56/56 [==============================] - 171s 3s/step - loss: 2.0153 - accuracy: 0.2065 - val_loss: 2.0226 - val_accuracy: 0.2058\n",
      "Epoch 18/20\n",
      "56/56 [==============================] - 172s 3s/step - loss: 2.0155 - accuracy: 0.1953 - val_loss: 2.0237 - val_accuracy: 0.2058\n",
      "Epoch 19/20\n",
      "56/56 [==============================] - 170s 3s/step - loss: 2.0153 - accuracy: 0.1948 - val_loss: 2.0223 - val_accuracy: 0.2058\n",
      "Epoch 20/20\n",
      "56/56 [==============================] - 169s 3s/step - loss: 2.0150 - accuracy: 0.2065 - val_loss: 2.0223 - val_accuracy: 0.2058\n"
     ]
    }
   ],
   "source": [
    "hist = model.fit(train_ds, epochs = epochs, validation_data=val_ds)"
   ]
  },
  {
   "cell_type": "code",
   "execution_count": 92,
   "id": "834a616a-5f22-4cfe-bc1b-9522d721197a",
   "metadata": {},
   "outputs": [
    {
     "data": {
      "image/png": "[encoded data removed]",
      "text/plain": [
       "<Figure size 800x800 with 2 Axes>"
      ]
     },
     "metadata": {},
     "output_type": "display_data"
    }
   ],
   "source": [
    "visualize_outputs(hist)"
   ]
  },
  {
   "cell_type": "markdown",
   "id": "b52d875b-0419-4ae0-8b2a-043eabf245d9",
   "metadata": {},
   "source": [
    "#### Observations"
   ]
  },
  {
   "cell_type": "markdown",
   "id": "66f6c97e-bab6-40bb-81e7-fc1602fbb2a8",
   "metadata": {},
   "source": [
    "- The training accuracy is not high enough. This can be due to less amount of data to learn. To increase the training samples, we will augment the data.\n",
    "- Augmentation tries to randomly flip/rotate/zoom the images and add them as new images.\n",
    "- These can help model learn better..."
   ]
  },
  {
   "cell_type": "code",
   "execution_count": null,
   "id": "ef8c4ec2-8c9f-40aa-b301-c8d3e4162ea3",
   "metadata": {},
   "outputs": [],
   "source": []
  },
  {
   "cell_type": "markdown",
   "id": "7687d5d7-c64d-4fc2-9420-7be93830c091",
   "metadata": {},
   "source": [
    "### Handle Overfitting by using Augmentation\n",
    "\n",
    "- RandomFlip,\n",
    "- RandomRotation,\n",
    "- RandomZoom"
   ]
  },
  {
   "cell_type": "code",
   "execution_count": 93,
   "id": "6d327cfd-aa06-4da2-8da9-fa04fcb167a9",
   "metadata": {},
   "outputs": [
    {
     "name": "stdout",
     "output_type": "stream",
     "text": [
      "Requirement already satisfied: Augmentor in c:\\program files\\python39\\lib\\site-packages (0.2.12)\n",
      "Requirement already satisfied: Pillow>=5.2.0 in c:\\program files\\python39\\lib\\site-packages (from Augmentor) (10.0.0)\n",
      "Requirement already satisfied: tqdm>=4.9.0 in c:\\program files\\python39\\lib\\site-packages (from Augmentor) (4.66.1)\n",
      "Requirement already satisfied: numpy>=1.11.0 in c:\\program files\\python39\\lib\\site-packages (from Augmentor) (1.24.3)\n",
      "Requirement already satisfied: colorama in c:\\program files\\python39\\lib\\site-packages (from tqdm>=4.9.0->Augmentor) (0.4.6)\n"
     ]
    }
   ],
   "source": [
    "!pip install Augmentor\n",
    "import Augmentor"
   ]
  },
  {
   "cell_type": "code",
   "execution_count": null,
   "id": "1a752990-67ab-4970-83f8-8f459218a4b3",
   "metadata": {},
   "outputs": [],
   "source": [
    "augmentor = Augmentor.Pipeline(training_data_dir)\n",
    "augmentor.flip_random(probability=0.39)\n",
    "augmentor.skew(probability=0.17)\n",
    "augmentor.greyscale(probability=0.05)\n",
    "augmentor.zoom_random(probability=0.17, percentage_area=0.11)\n",
    "augmentor.random_distortion(probability=0.31, grid_width=input_image_width, grid_height=input_image_height, magnitude=1)\n",
    "augmentor.rotate(probability=0.13, max_left_rotation=10, max_right_rotation=12)\n",
    "\n",
    "augmentor.sample(500)"
   ]
  },
  {
   "cell_type": "code",
   "execution_count": 100,
   "id": "01903ca4-3467-4ede-9636-fd5342b27f8d",
   "metadata": {
    "editable": true,
    "slideshow": {
     "slide_type": ""
    },
    "tags": []
   },
   "outputs": [
    {
     "name": "stdout",
     "output_type": "stream",
     "text": [
      "500\n"
     ]
    }
   ],
   "source": [
    "image_count_train = len(list(data_dir_train.glob('output/*/*.jpg')))\n",
    "print(image_count_train)"
   ]
  },
  {
   "cell_type": "code",
   "execution_count": 105,
   "id": "61a5756e-171e-4755-a46c-268558901039",
   "metadata": {
    "editable": true,
    "id": "6tODrYIY2nxJ",
    "scrolled": true,
    "slideshow": {
     "slide_type": ""
    },
    "tags": []
   },
   "outputs": [
    {
     "name": "stdout",
     "output_type": "stream",
     "text": [
      "Newly Generated Images Count: 500\n",
      "Existing Images Count: 2239\n"
     ]
    }
   ],
   "source": [
    "path_list_new = list(data_dir_train.glob('output/*/*.jpg'))\n",
    "print(\"Newly Generated Images Count:\", len(path_list_new))\n",
    "\n",
    "path_list_old = list(data_dir_train.glob('*/*.jpg'))\n",
    "print(\"Existing Images Count:\", len(path_list_old))"
   ]
  },
  {
   "cell_type": "code",
   "execution_count": 108,
   "id": "bf545b01-aba1-4048-8a52-ae11a7d4d733",
   "metadata": {
    "id": "nZvVdF7g3E1z",
    "scrolled": true
   },
   "outputs": [
    {
     "name": "stdout",
     "output_type": "stream",
     "text": [
      "Categories of Newly Generated Images: {'vascular lesion', 'basal cell carcinoma', 'pigmented benign keratosis', 'actinic keratosis', 'nevus', 'seborrheic keratosis', 'melanoma', 'squamous cell carcinoma', 'dermatofibroma'}\n",
      "Categories of Existing Generated Images: {'vascular lesion', 'basal cell carcinoma', 'pigmented benign keratosis', 'actinic keratosis', 'nevus', 'seborrheic keratosis', 'melanoma', 'squamous cell carcinoma', 'dermatofibroma'}\n"
     ]
    }
   ],
   "source": [
    "lesion_list_new = [os.path.basename(os.path.dirname(y)) for y in path_list_new]\n",
    "print(\"Categories of Newly Generated Images:\", set(lesion_list_new))\n",
    "\n",
    "lesion_list_old = [os.path.basename(os.path.dirname(y)) for y in path_list_old]\n",
    "print(\"Categories of Existing Generated Images:\", set(lesion_list_old))"
   ]
  },
  {
   "cell_type": "code",
   "execution_count": 107,
   "id": "e141ad0b-fe1a-4807-ae73-48aaba0c0b36",
   "metadata": {},
   "outputs": [
    {
     "data": {
      "text/plain": [
       "2239"
      ]
     },
     "execution_count": 107,
     "metadata": {},
     "output_type": "execute_result"
    }
   ],
   "source": []
  },
  {
   "cell_type": "code",
   "execution_count": 109,
   "id": "89d20b3b-2bc0-46ce-a18b-747dece36887",
   "metadata": {
    "id": "okcqVFAA2nxK"
   },
   "outputs": [],
   "source": [
    "dataframe_dict_new = dict(zip(path_list_new, lesion_list_new))\n",
    "dataframe_dict_old = dict(zip(path_list_old, lesion_list_old))"
   ]
  },
  {
   "cell_type": "code",
   "execution_count": 119,
   "id": "3ce345e8-e295-414a-82c7-272576d55c8f",
   "metadata": {
    "editable": true,
    "id": "njzBxTNT2nxK",
    "slideshow": {
     "slide_type": ""
    },
    "tags": []
   },
   "outputs": [],
   "source": [
    "df_new = pd.DataFrame(list(dataframe_dict_new.items()),columns = ['Path','Label'])\n",
    "df_old = pd.DataFrame(list(dataframe_dict_old.items()),columns = ['Path','Label'])\r",
    "consolidated_dff =pd.concat([df_new, df_old])"
   ]
  },
  {
   "cell_type": "code",
   "execution_count": 118,
   "id": "9dc150eb-ddb7-4899-b8f2-f7e7e8baef4a",
   "metadata": {
    "id": "5j45rmxd2nxK"
   },
   "outputs": [
    {
     "ename": "NameError",
     "evalue": "name 'consolidated_df' is not defined",
     "output_type": "error",
     "traceback": [
      "\u001b[1;31m---------------------------------------------------------------------------\u001b[0m",
      "\u001b[1;31mNameError\u001b[0m                                 Traceback (most recent call last)",
      "Cell \u001b[1;32mIn[118], line 1\u001b[0m\n\u001b[1;32m----> 1\u001b[0m \u001b[43mconsolidated_df\u001b[49m[\u001b[38;5;124m'\u001b[39m\u001b[38;5;124mLabel\u001b[39m\u001b[38;5;124m'\u001b[39m]\u001b[38;5;241m.\u001b[39mvalue_counts()\n",
      "\u001b[1;31mNameError\u001b[0m: name 'consolidated_df' is not defined"
     ]
    }
   ],
   "source": [
    "consolidated_df['Label'].value_counts()"
   ]
  },
  {
   "cell_type": "code",
   "execution_count": null,
   "id": "372cbbd6-39e9-4c18-a9cd-b4dccecd4a51",
   "metadata": {},
   "outputs": [],
   "source": [
    "k = train_ds.concatenate(val_ds)"
   ]
  },
  {
   "cell_type": "code",
   "execution_count": null,
   "id": "588b31d3-986f-4721-af54-b14f21292540",
   "metadata": {},
   "outputs": [],
   "source": [
    "print('Images in Train:', len(k.file_paths))"
   ]
  },
  {
   "cell_type": "code",
   "execution_count": null,
   "id": "8c50b724-74b0-4b8d-ac94-b6976460142c",
   "metadata": {},
   "outputs": [],
   "source": []
  },
  {
   "cell_type": "code",
   "execution_count": null,
   "id": "0f52b50d-93bb-416c-9802-f4e0315f7399",
   "metadata": {},
   "outputs": [],
   "source": []
  },
  {
   "cell_type": "code",
   "execution_count": null,
   "id": "55673915-7d43-44dc-a20e-d6bb5e5919aa",
   "metadata": {},
   "outputs": [],
   "source": []
  },
  {
   "cell_type": "code",
   "execution_count": null,
   "id": "ad8c3c23-1014-40f6-9564-b53e4acb966e",
   "metadata": {},
   "outputs": [],
   "source": []
  },
  {
   "cell_type": "code",
   "execution_count": null,
   "id": "f8b5a0d4-84e7-4474-b0a8-14310f9e4e05",
   "metadata": {},
   "outputs": [],
   "source": []
  },
  {
   "cell_type": "code",
   "execution_count": null,
   "id": "076c28bc-f596-47d5-9e6f-5e8c4beba05e",
   "metadata": {},
   "outputs": [],
   "source": []
  },
  {
   "cell_type": "markdown",
   "id": "0c7dfa77-b7fd-4e0e-bd14-6bf7196bd8fa",
   "metadata": {},
   "source": [
    "augmenter_model = layers.experimental.preprocessing.PreprocessingLayer()\n",
    "augmenter_model.add(layers.experimentatal.preprocessing.RandomContrast('horizontal', input_shape=(input_image_height, input_image_width, 3) ))\n",
    "augmenter_model.add(layers.experimentatal.preprocessing.RandomTranslation( 0.2, 0.2, fill_mode=\"nearest\",  seed = 123))\n",
    "augmenter_model.add(layers.experimentatal.preprocessing.RandomFlip(mode=HORIZONTAL_AND_VERTICAL, seed=123 ))\n",
    "augmenter_model.add(layers.experimentatal.preprocessing.RandomZoom( 0.2, 0.3, fill_mode=\"nearest\", seed=123 ))"
   ]
  },
  {
   "cell_type": "code",
   "execution_count": null,
   "id": "7548e951-ec04-4e1d-b86f-0fa75729bb1d",
   "metadata": {
    "editable": true,
    "slideshow": {
     "slide_type": ""
    },
    "tags": []
   },
   "outputs": [],
   "source": [
    "#fig = plt.figure(figsize=(9,9))\n",
    "#\n",
    "#for each_class in range(len(class_names)):\n",
    "#    fig_path = [x for x in train_ds.file_paths if x.startswith(\"{0}{1}\".format(training_data_dir, class_names[each_class]))][0]\n",
    "#    #print(fig_path)\n",
    "#    ax = plt.subplot(3, 3, each_class+1)\n",
    "#\n",
    "#    plt.imshow(cv2.imread(fig_path))\n",
    "#    plt.title(class_names[each_class])\n",
    "#    plt.axis(\"off\")\n",
    "#plt.show()"
   ]
  },
  {
   "cell_type": "code",
   "execution_count": null,
   "id": "3e33887c-017b-41de-9c7d-a5bdaffc4c3d",
   "metadata": {
    "editable": true,
    "slideshow": {
     "slide_type": ""
    },
    "tags": []
   },
   "outputs": [],
   "source": [
    "#class_names = train_ds.class_names\n",
    "#fig = plt.figure(figsize=(8,3))\n",
    "#\n",
    "#for i in range(len(class_names)):\n",
    "#    ax = fig.add_subplot(2,5,1+i, xticks=[], yticks=[])\n",
    "#    im = train_ds[i]\n",
    "#    plt.imshow(im)\n",
    "#plt.show()"
   ]
  },
  {
   "cell_type": "code",
   "execution_count": null,
   "id": "0f03c966-9c46-4283-bef1-8148ad354ce2",
   "metadata": {
    "editable": true,
    "slideshow": {
     "slide_type": ""
    },
    "tags": []
   },
   "outputs": [],
   "source": [
    "#?train_ds.take"
   ]
  },
  {
   "cell_type": "code",
   "execution_count": null,
   "id": "404dc4bf-1d33-46f4-b457-45435d3f0e09",
   "metadata": {},
   "outputs": [],
   "source": [
    "#?train_ds.as_numpy_iterator"
   ]
  },
  {
   "cell_type": "code",
   "execution_count": null,
   "id": "314b91ab-00d2-40d7-95be-b61fb3aa8d60",
   "metadata": {
    "scrolled": true
   },
   "outputs": [],
   "source": [
    "#?tf.keras.utils.image_dataset_from_directory"
   ]
  },
  {
   "cell_type": "code",
   "execution_count": null,
   "id": "6762fa6a-7f1e-43ac-ad07-36e6c0d5ee1f",
   "metadata": {},
   "outputs": [],
   "source": [
    "#[[x for x in train_ds.file_paths if x.startswith(\"{0}{1}\".format(training_data_dir, c))][0] for c in class_names]"
   ]
  },
  {
   "cell_type": "code",
   "execution_count": null,
   "id": "df45399d-759d-4cbb-b248-b52e4a162154",
   "metadata": {
    "scrolled": true
   },
   "outputs": [],
   "source": [
    "#for images, labels in train_ds.map(lambda x, y: (x, y)):\n",
    "#    #for l in labels:\n",
    "#    #    print(l)\n",
    "#    conc_labels = labels[0]+labels[1]\n",
    "#    numpy_data = conc_labels.numpy()\n",
    "#    if(numpy_data == 1):\n",
    "#        print(numpy_data)\n",
    "#    #print(conc_labels.lambda(x: x.numpy()==1))\n",
    "#    #numpy_data.numpy()"
   ]
  },
  {
   "cell_type": "code",
   "execution_count": null,
   "id": "09f54ed8-ef3d-4005-a706-a328a75e501d",
   "metadata": {},
   "outputs": [],
   "source": [
    "#train_ds.map(lambda x, y: (x, y)).list_files()"
   ]
  },
  {
   "cell_type": "code",
   "execution_count": null,
   "id": "f86bfc65-c5e3-4d31-9ef2-38d69be1f6bf",
   "metadata": {},
   "outputs": [],
   "source": [
    "#?train_ds.map #.get_single_element"
   ]
  },
  {
   "cell_type": "code",
   "execution_count": null,
   "id": "0a4faf06-a34e-4647-b050-a9eb86e5c063",
   "metadata": {},
   "outputs": [],
   "source": [
    "#plt.figure(figsize = (10,10))\n",
    "#for images, labels in train_ds.take(1):\n",
    "#    for i in range(9):\n",
    "#        ax = plt.subplot(3,3,i+1)\n",
    "#        plt.imshow(images[i].numpy().astype(\"uint8\"))\n",
    "#        plt.title(class_names[labels[i]])\n",
    "#        plt.axis(\"off\")"
   ]
  },
  {
   "cell_type": "code",
   "execution_count": null,
   "id": "f991f0b1-6dd2-40f3-80ff-4c5214b8008b",
   "metadata": {
    "scrolled": true
   },
   "outputs": [],
   "source": [
    "#?train_ds.take"
   ]
  },
  {
   "cell_type": "code",
   "execution_count": null,
   "id": "9ac26e40-460a-4b4a-b81c-4a9bbf010a6d",
   "metadata": {},
   "outputs": [],
   "source": [
    "tf.compat.v1.data.experimental.get_single_element(train_ds)"
   ]
  },
  {
   "cell_type": "code",
   "execution_count": null,
   "id": "253cc88a-73a6-4249-98ff-0f8b42f41911",
   "metadata": {},
   "outputs": [],
   "source": [
    "#[[x for x in train_ds.file_paths if x.startswith(\"{0}{1}\".format(training_data_dir, c))][0] for c in class_names]"
   ]
  },
  {
   "cell_type": "code",
   "execution_count": null,
   "id": "d9bf862a-e6f9-4e1a-9b30-39e1166eb799",
   "metadata": {},
   "outputs": [],
   "source": [
    "train_ds.as_numpy_iterator().next()[0].shape"
   ]
  },
  {
   "cell_type": "code",
   "execution_count": null,
   "id": "02ff73e9-99e2-4e4c-a00a-f0c75d7005a6",
   "metadata": {},
   "outputs": [],
   "source": []
  }
 ],
 "metadata": {
  "kernelspec": {
   "display_name": "Python 3 (ipykernel)",
   "language": "python",
   "name": "python3"
  },
  "language_info": {
   "codemirror_mode": {
    "name": "ipython",
    "version": 3
   },
   "file_extension": ".py",
   "mimetype": "text/x-python",
   "name": "python",
   "nbconvert_exporter": "python",
   "pygments_lexer": "ipython3",
   "version": "3.9.13"
  }
 },
 "nbformat": 4,
 "nbformat_minor": 5
}
